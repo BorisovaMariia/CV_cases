{
 "cells": [
  {
   "cell_type": "code",
   "execution_count": null,
   "metadata": {},
   "outputs": [],
   "source": [
    "pip install opencv-python"
   ]
  },
  {
   "cell_type": "code",
   "execution_count": null,
   "metadata": {},
   "outputs": [],
   "source": [
    "pip install matplotlib"
   ]
  },
  {
   "cell_type": "code",
   "execution_count": 1,
   "metadata": {},
   "outputs": [],
   "source": [
    "import cv2 as cv\n",
    "import numpy as np\n",
    "import matplotlib.pyplot as plt\n",
    "\n",
    "import math"
   ]
  },
  {
   "cell_type": "markdown",
   "metadata": {},
   "source": [
    "## Фильтр для видео"
   ]
  },
  {
   "cell_type": "code",
   "execution_count": 2,
   "metadata": {},
   "outputs": [],
   "source": [
    "def func(img, numb):\n",
    "    #get image with blur\n",
    "    return cv.GaussianBlur(img, (numb, numb), 1.5)\n",
    "\n",
    "def cut_img(img):\n",
    "    #cut image in midle line\n",
    "    img = np.concatenate((img[:, 320:], img[:, :320]), axis=1)\n",
    "    return img\n",
    "    \n",
    "def waves(img):\n",
    "    rows, cols, numb = img.shape\n",
    "    img_output = np.zeros(img.shape, dtype=img.dtype)\n",
    "    for i in range(rows):\n",
    "        for j in range(cols):\n",
    "            offset_x = int(20.0 * math.sin(2 * 3.14 * i / 150))\n",
    "            offset_y = int(20.0 * math.cos(2 * 3.14 * j / 150))\n",
    "            if i+offset_y < rows and j+offset_x < cols:\n",
    "                img_output[i,j] = img[(i+offset_y)%rows,(j+offset_x)%cols]\n",
    "            else:\n",
    "                img_output[i,j] = 0\n",
    "    return img_output\n",
    "\n",
    "def noise(img):\n",
    "    N =140*180\n",
    "    x = np.random.random_integers(480, size=N)-1\n",
    "    y = np.random.random_integers(640, size=N)-1\n",
    "    for i in range(len(x)//2):\n",
    "        img[ x[i], y[i] ] = [255,255,255] # black\n",
    "        img[ x[N-i-1], y[N-i-1] ] = [0,0,0] # white\n",
    "    return img"
   ]
  },
  {
   "cell_type": "code",
   "execution_count": 6,
   "metadata": {},
   "outputs": [],
   "source": [
    "# create window\n",
    "cv.namedWindow( \"video filter\" )\n",
    "\n",
    "# 0 - open default camera\n",
    "cap = cv.VideoCapture(0)\n",
    "filter = cv.COLOR_BGR2GRAY\n",
    "\n",
    "numb = 1 #level of blur\n",
    "numb_f2 = 1 #for cut and waves\n",
    "\n",
    "font = cv.FONT_HERSHEY_SIMPLEX\n",
    "fontScale = 0.8\n",
    "lineType = cv.LINE_4\n",
    "\n",
    "#d - change parts of image\n",
    "\n",
    "while True:\n",
    "    \n",
    "    #for waves\n",
    "    if numb_f2 == 3:\n",
    "        flag, img = cap.read()\n",
    "        img = waves(img)\n",
    "    #for cut img\n",
    "    elif numb_f2 == 4:\n",
    "        flag, img = cap.read()\n",
    "        img = cut_img(img)\n",
    "    #get noise\n",
    "    elif numb_f2 == 5:\n",
    "        flag, img = cap.read()\n",
    "        img = noise(img)\n",
    "    else:\n",
    "        flag, img = cap.read()\n",
    "\n",
    "    #text about filters\n",
    "    cv.putText(img,'1 - no blur', (20, 30), font, \n",
    "                fontScale,(0,0,225),lineType);\n",
    "    cv.putText(img,'3 - small blur', (20, 60), font, \n",
    "                fontScale,(0,0,255),lineType);\n",
    "    cv.putText(img,'7 - big blur', (20, 90), font, \n",
    "                fontScale, (0,0,255),lineType);\n",
    "    cv.putText(img,'s - waves=)', (20, 120), font, \n",
    "                fontScale,(0,0,255),lineType);\n",
    "    cv.putText(img,'d - cut img', (20, 150), font, \n",
    "                fontScale, (0,0,255),lineType); \n",
    "    cv.putText(img,'z - no effects', (20, 180), font,\n",
    "                fontScale,(0,0,255),lineType);  \n",
    "    cv.putText(img,'f - noise', (20, 210), font,\n",
    "                fontScale,(0,0,255),lineType);         \n",
    "\n",
    "    #for filterd BGR2BGRA and BGR2GRAY\n",
    "    img_with_filter = cv.cvtColor(img, cv.COLOR_BGR2BGRA)\n",
    "    #for Canny and blur\n",
    "    new_img = func(img_with_filter, numb) #1 - размытие\n",
    "\n",
    "    try:\n",
    "        cv.imshow(\"video filter\", new_img)\n",
    "    except:\n",
    "        cap.release()\n",
    "        raise\n",
    "    \n",
    "    k = cv.waitKey(10)\n",
    "    #waavves\n",
    "    if k == 115: #s\n",
    "        numb_f2 = 3\n",
    "\n",
    "    #change parts of image (cut img)\n",
    "    if k == 100: #d\n",
    "        numb_f2 = 4\n",
    "\n",
    "    if k == 102: #f\n",
    "        numb_f2 = 5\n",
    "\n",
    "    #clear img (without cut, waves, Canny)\n",
    "    if k == 122:#z\n",
    "        numb_f2 = 1\n",
    "\n",
    "    #level of blur\n",
    "    elif k == 49: #1\n",
    "        numb = 1\n",
    "\n",
    "    elif k == 51: #3\n",
    "        numb = 3\n",
    "\n",
    "    elif k == 55: #7\n",
    "        numb = 7\n",
    "\n",
    "    #exit\n",
    "    if k == 113:\n",
    "        break\n",
    "\n",
    "cap.release()\n",
    "cv.destroyAllWindows()"
   ]
  },
  {
   "cell_type": "code",
   "execution_count": null,
   "metadata": {},
   "outputs": [],
   "source": []
  }
 ],
 "metadata": {
  "kernelspec": {
   "display_name": "Python 3.10.8 64-bit",
   "language": "python",
   "name": "python3"
  },
  "language_info": {
   "codemirror_mode": {
    "name": "ipython",
    "version": 3
   },
   "file_extension": ".py",
   "mimetype": "text/x-python",
   "name": "python",
   "nbconvert_exporter": "python",
   "pygments_lexer": "ipython3",
   "version": "3.10.8"
  },
  "orig_nbformat": 4,
  "vscode": {
   "interpreter": {
    "hash": "b05f4bd0acf5f016203a98144e4cdd689dc93d489259efa9867519785fbfa42b"
   }
  }
 },
 "nbformat": 4,
 "nbformat_minor": 2
}
